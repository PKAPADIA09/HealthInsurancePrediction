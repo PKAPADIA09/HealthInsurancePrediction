{
 "cells": [
  {
   "cell_type": "code",
   "execution_count": 1,
   "id": "bd227eac",
   "metadata": {},
   "outputs": [],
   "source": [
    "import numpy as np\n",
    "import pandas as pd"
   ]
  },
  {
   "cell_type": "markdown",
   "id": "f36c9cdd",
   "metadata": {},
   "source": [
    "# Load DataSet"
   ]
  },
  {
   "cell_type": "code",
   "execution_count": 2,
   "id": "c13d81e6",
   "metadata": {
    "scrolled": true
   },
   "outputs": [],
   "source": [
    "ihcd = pd.read_csv('insurance.csv')"
   ]
  },
  {
   "cell_type": "markdown",
   "id": "4ebbe91a",
   "metadata": {},
   "source": [
    "# Data Analysis Life Cycle"
   ]
  },
  {
   "cell_type": "code",
   "execution_count": 3,
   "id": "602fe5c9",
   "metadata": {},
   "outputs": [
    {
     "data": {
      "text/plain": [
       "array(['northeast', 'northwest', 'southeast', 'southwest'], dtype=object)"
      ]
     },
     "execution_count": 3,
     "metadata": {},
     "output_type": "execute_result"
    }
   ],
   "source": [
    "np.unique(ihcd['region'])"
   ]
  },
  {
   "cell_type": "code",
   "execution_count": 4,
   "id": "57132bce",
   "metadata": {},
   "outputs": [
    {
     "data": {
      "text/plain": [
       "array(['female', 'male'], dtype=object)"
      ]
     },
     "execution_count": 4,
     "metadata": {},
     "output_type": "execute_result"
    }
   ],
   "source": [
    "np.unique(ihcd['sex'])"
   ]
  },
  {
   "cell_type": "code",
   "execution_count": 5,
   "id": "924ac4ac",
   "metadata": {},
   "outputs": [
    {
     "data": {
      "text/plain": [
       "array([18, 19, 20, 21, 22, 23, 24, 25, 26, 27, 28, 29, 30, 31, 32, 33, 34,\n",
       "       35, 36, 37, 38, 39, 40, 41, 42, 43, 44, 45, 46, 47, 48, 49, 50, 51,\n",
       "       52, 53, 54, 55, 56, 57, 58, 59, 60, 61, 62, 63, 64])"
      ]
     },
     "execution_count": 5,
     "metadata": {},
     "output_type": "execute_result"
    }
   ],
   "source": [
    "np.unique(ihcd['age'])"
   ]
  },
  {
   "cell_type": "code",
   "execution_count": 6,
   "id": "2d54a439",
   "metadata": {},
   "outputs": [
    {
     "data": {
      "text/plain": [
       "array([0, 1, 2, 3, 4, 5])"
      ]
     },
     "execution_count": 6,
     "metadata": {},
     "output_type": "execute_result"
    }
   ],
   "source": [
    "np.unique(ihcd['children'])"
   ]
  },
  {
   "cell_type": "code",
   "execution_count": 7,
   "id": "6c9acf4f",
   "metadata": {},
   "outputs": [
    {
     "data": {
      "text/plain": [
       "array([15.96 , 16.815, 17.195, 17.29 , 17.385, 17.4  , 17.48 , 17.67 ,\n",
       "       17.765, 17.8  , 17.86 , 17.955, 18.05 , 18.3  , 18.335, 18.5  ,\n",
       "       18.6  , 18.715, 18.905, 19.   , 19.095, 19.19 , 19.3  , 19.475,\n",
       "       19.57 , 19.8  , 19.855, 19.95 , 20.045, 20.1  , 20.13 , 20.235,\n",
       "       20.3  , 20.35 , 20.4  , 20.425, 20.52 , 20.6  , 20.615, 20.7  ,\n",
       "       20.79 , 20.8  , 20.9  , 21.01 , 21.09 , 21.12 , 21.28 , 21.3  ,\n",
       "       21.375, 21.4  , 21.47 , 21.5  , 21.56 , 21.565, 21.66 , 21.7  ,\n",
       "       21.755, 21.78 , 21.8  , 21.85 , 21.89 , 21.945, 22.   , 22.04 ,\n",
       "       22.1  , 22.135, 22.22 , 22.23 , 22.3  , 22.42 , 22.515, 22.6  ,\n",
       "       22.61 , 22.705, 22.77 , 22.8  , 22.88 , 22.895, 22.99 , 23.   ,\n",
       "       23.085, 23.1  , 23.18 , 23.2  , 23.21 , 23.275, 23.3  , 23.32 ,\n",
       "       23.37 , 23.4  , 23.465, 23.54 , 23.56 , 23.6  , 23.65 , 23.655,\n",
       "       23.7  , 23.75 , 23.76 , 23.8  , 23.845, 23.87 , 23.9  , 23.94 ,\n",
       "       23.98 , 24.035, 24.09 , 24.1  , 24.13 , 24.225, 24.3  , 24.31 ,\n",
       "       24.32 , 24.4  , 24.415, 24.42 , 24.51 , 24.53 , 24.6  , 24.605,\n",
       "       24.64 , 24.7  , 24.75 , 24.795, 24.86 , 24.89 , 24.97 , 24.985,\n",
       "       25.   , 25.08 , 25.1  , 25.175, 25.2  , 25.27 , 25.3  , 25.365,\n",
       "       25.4  , 25.41 , 25.46 , 25.52 , 25.555, 25.6  , 25.65 , 25.7  ,\n",
       "       25.74 , 25.745, 25.8  , 25.84 , 25.85 , 25.9  , 25.935, 26.03 ,\n",
       "       26.07 , 26.125, 26.18 , 26.2  , 26.22 , 26.29 , 26.315, 26.4  ,\n",
       "       26.41 , 26.505, 26.51 , 26.6  , 26.62 , 26.695, 26.7  , 26.73 ,\n",
       "       26.79 , 26.8  , 26.84 , 26.885, 26.9  , 26.98 , 27.   , 27.06 ,\n",
       "       27.075, 27.1  , 27.17 , 27.2  , 27.265, 27.28 , 27.3  , 27.36 ,\n",
       "       27.4  , 27.455, 27.5  , 27.55 , 27.6  , 27.61 , 27.645, 27.7  ,\n",
       "       27.72 , 27.74 , 27.8  , 27.83 , 27.835, 27.9  , 27.93 , 27.94 ,\n",
       "       28.   , 28.025, 28.05 , 28.1  , 28.12 , 28.16 , 28.2  , 28.215,\n",
       "       28.27 , 28.3  , 28.31 , 28.38 , 28.4  , 28.405, 28.49 , 28.5  ,\n",
       "       28.595, 28.6  , 28.69 , 28.7  , 28.785, 28.8  , 28.82 , 28.88 ,\n",
       "       28.9  , 28.93 , 28.975, 29.   , 29.04 , 29.07 , 29.1  , 29.15 ,\n",
       "       29.165, 29.2  , 29.26 , 29.3  , 29.355, 29.37 , 29.4  , 29.45 ,\n",
       "       29.48 , 29.5  , 29.545, 29.59 , 29.6  , 29.64 , 29.7  , 29.735,\n",
       "       29.8  , 29.81 , 29.83 , 29.9  , 29.92 , 29.925, 30.   , 30.02 ,\n",
       "       30.03 , 30.1  , 30.115, 30.14 , 30.2  , 30.21 , 30.25 , 30.3  ,\n",
       "       30.305, 30.36 , 30.4  , 30.495, 30.5  , 30.59 , 30.685, 30.69 ,\n",
       "       30.78 , 30.8  , 30.875, 30.9  , 30.97 , 31.   , 31.02 , 31.065,\n",
       "       31.1  , 31.13 , 31.16 , 31.2  , 31.24 , 31.255, 31.3  , 31.35 ,\n",
       "       31.4  , 31.445, 31.46 , 31.5  , 31.54 , 31.57 , 31.6  , 31.635,\n",
       "       31.68 , 31.73 , 31.79 , 31.8  , 31.825, 31.9  , 31.92 , 32.   ,\n",
       "       32.01 , 32.015, 32.1  , 32.11 , 32.12 , 32.2  , 32.205, 32.23 ,\n",
       "       32.3  , 32.34 , 32.395, 32.4  , 32.45 , 32.49 , 32.5  , 32.56 ,\n",
       "       32.585, 32.6  , 32.67 , 32.68 , 32.7  , 32.775, 32.78 , 32.8  ,\n",
       "       32.87 , 32.9  , 32.965, 33.   , 33.06 , 33.1  , 33.11 , 33.155,\n",
       "       33.2  , 33.25 , 33.3  , 33.33 , 33.345, 33.4  , 33.44 , 33.5  ,\n",
       "       33.535, 33.55 , 33.63 , 33.66 , 33.7  , 33.725, 33.77 , 33.8  ,\n",
       "       33.82 , 33.88 , 33.915, 33.99 , 34.01 , 34.1  , 34.105, 34.2  ,\n",
       "       34.21 , 34.295, 34.3  , 34.32 , 34.39 , 34.4  , 34.43 , 34.485,\n",
       "       34.5  , 34.58 , 34.6  , 34.675, 34.7  , 34.77 , 34.8  , 34.865,\n",
       "       34.87 , 34.9  , 34.96 , 35.09 , 35.1  , 35.15 , 35.2  , 35.245,\n",
       "       35.3  , 35.31 , 35.4  , 35.42 , 35.435, 35.5  , 35.53 , 35.6  ,\n",
       "       35.625, 35.64 , 35.7  , 35.72 , 35.75 , 35.8  , 35.815, 35.86 ,\n",
       "       35.9  , 35.91 , 35.97 , 36.   , 36.005, 36.08 , 36.1  , 36.19 ,\n",
       "       36.195, 36.2  , 36.29 , 36.3  , 36.385, 36.4  , 36.48 , 36.52 ,\n",
       "       36.575, 36.6  , 36.63 , 36.67 , 36.7  , 36.765, 36.85 , 36.86 ,\n",
       "       36.955, 36.96 , 37.   , 37.05 , 37.07 , 37.1  , 37.145, 37.18 ,\n",
       "       37.29 , 37.3  , 37.335, 37.4  , 37.43 , 37.51 , 37.525, 37.62 ,\n",
       "       37.7  , 37.715, 37.73 , 37.8  , 37.9  , 37.905, 38.   , 38.06 ,\n",
       "       38.095, 38.17 , 38.19 , 38.28 , 38.285, 38.38 , 38.39 , 38.6  ,\n",
       "       38.665, 38.83 , 38.9  , 38.94 , 38.95 , 39.05 , 39.1  , 39.14 ,\n",
       "       39.16 , 39.2  , 39.27 , 39.33 , 39.4  , 39.425, 39.49 , 39.5  ,\n",
       "       39.52 , 39.6  , 39.615, 39.7  , 39.71 , 39.8  , 39.805, 39.82 ,\n",
       "       39.9  , 39.93 , 39.995, 40.15 , 40.185, 40.26 , 40.28 , 40.3  ,\n",
       "       40.37 , 40.375, 40.47 , 40.48 , 40.5  , 40.565, 40.66 , 40.81 ,\n",
       "       40.92 , 40.945, 41.1  , 41.14 , 41.23 , 41.325, 41.42 , 41.47 ,\n",
       "       41.69 , 41.8  , 41.895, 41.91 , 42.13 , 42.24 , 42.35 , 42.4  ,\n",
       "       42.46 , 42.655, 42.68 , 42.75 , 42.9  , 42.94 , 43.01 , 43.12 ,\n",
       "       43.34 , 43.4  , 43.7  , 43.89 , 44.   , 44.22 , 44.7  , 44.745,\n",
       "       44.77 , 44.88 , 45.32 , 45.43 , 45.54 , 45.9  , 46.09 , 46.2  ,\n",
       "       46.53 , 46.7  , 46.75 , 47.41 , 47.52 , 47.6  , 47.74 , 48.07 ,\n",
       "       49.06 , 50.38 , 52.58 , 53.13 ])"
      ]
     },
     "execution_count": 7,
     "metadata": {},
     "output_type": "execute_result"
    }
   ],
   "source": [
    "np.unique(ihcd['bmi'])"
   ]
  },
  {
   "cell_type": "code",
   "execution_count": 8,
   "id": "d53b5e57",
   "metadata": {},
   "outputs": [
    {
     "data": {
      "text/html": [
       "<div>\n",
       "<style scoped>\n",
       "    .dataframe tbody tr th:only-of-type {\n",
       "        vertical-align: middle;\n",
       "    }\n",
       "\n",
       "    .dataframe tbody tr th {\n",
       "        vertical-align: top;\n",
       "    }\n",
       "\n",
       "    .dataframe thead th {\n",
       "        text-align: right;\n",
       "    }\n",
       "</style>\n",
       "<table border=\"1\" class=\"dataframe\">\n",
       "  <thead>\n",
       "    <tr style=\"text-align: right;\">\n",
       "      <th></th>\n",
       "      <th>age</th>\n",
       "      <th>sex</th>\n",
       "      <th>bmi</th>\n",
       "      <th>children</th>\n",
       "      <th>smoker</th>\n",
       "      <th>region</th>\n",
       "      <th>charges</th>\n",
       "    </tr>\n",
       "  </thead>\n",
       "  <tbody>\n",
       "  </tbody>\n",
       "</table>\n",
       "</div>"
      ],
      "text/plain": [
       "Empty DataFrame\n",
       "Columns: [age, sex, bmi, children, smoker, region, charges]\n",
       "Index: []"
      ]
     },
     "metadata": {},
     "output_type": "display_data"
    }
   ],
   "source": [
    "## Clean DataSet\n",
    "nan_ihcd = ihcd[ihcd.isna().any(axis=1)]\n",
    "display(nan_ihcd.head())"
   ]
  },
  {
   "cell_type": "code",
   "execution_count": 9,
   "id": "f08f1362",
   "metadata": {},
   "outputs": [
    {
     "data": {
      "text/html": [
       "<div>\n",
       "<style scoped>\n",
       "    .dataframe tbody tr th:only-of-type {\n",
       "        vertical-align: middle;\n",
       "    }\n",
       "\n",
       "    .dataframe tbody tr th {\n",
       "        vertical-align: top;\n",
       "    }\n",
       "\n",
       "    .dataframe thead th {\n",
       "        text-align: right;\n",
       "    }\n",
       "</style>\n",
       "<table border=\"1\" class=\"dataframe\">\n",
       "  <thead>\n",
       "    <tr style=\"text-align: right;\">\n",
       "      <th></th>\n",
       "      <th>age</th>\n",
       "      <th>bmi</th>\n",
       "      <th>children</th>\n",
       "      <th>charges</th>\n",
       "    </tr>\n",
       "  </thead>\n",
       "  <tbody>\n",
       "    <tr>\n",
       "      <th>count</th>\n",
       "      <td>1338.000000</td>\n",
       "      <td>1338.000000</td>\n",
       "      <td>1338.000000</td>\n",
       "      <td>1338.000000</td>\n",
       "    </tr>\n",
       "    <tr>\n",
       "      <th>mean</th>\n",
       "      <td>39.207025</td>\n",
       "      <td>30.663397</td>\n",
       "      <td>1.094918</td>\n",
       "      <td>13270.422265</td>\n",
       "    </tr>\n",
       "    <tr>\n",
       "      <th>std</th>\n",
       "      <td>14.049960</td>\n",
       "      <td>6.098187</td>\n",
       "      <td>1.205493</td>\n",
       "      <td>12110.011237</td>\n",
       "    </tr>\n",
       "    <tr>\n",
       "      <th>min</th>\n",
       "      <td>18.000000</td>\n",
       "      <td>15.960000</td>\n",
       "      <td>0.000000</td>\n",
       "      <td>1121.873900</td>\n",
       "    </tr>\n",
       "    <tr>\n",
       "      <th>25%</th>\n",
       "      <td>27.000000</td>\n",
       "      <td>26.296250</td>\n",
       "      <td>0.000000</td>\n",
       "      <td>4740.287150</td>\n",
       "    </tr>\n",
       "    <tr>\n",
       "      <th>50%</th>\n",
       "      <td>39.000000</td>\n",
       "      <td>30.400000</td>\n",
       "      <td>1.000000</td>\n",
       "      <td>9382.033000</td>\n",
       "    </tr>\n",
       "    <tr>\n",
       "      <th>75%</th>\n",
       "      <td>51.000000</td>\n",
       "      <td>34.693750</td>\n",
       "      <td>2.000000</td>\n",
       "      <td>16639.912515</td>\n",
       "    </tr>\n",
       "    <tr>\n",
       "      <th>max</th>\n",
       "      <td>64.000000</td>\n",
       "      <td>53.130000</td>\n",
       "      <td>5.000000</td>\n",
       "      <td>63770.428010</td>\n",
       "    </tr>\n",
       "  </tbody>\n",
       "</table>\n",
       "</div>"
      ],
      "text/plain": [
       "               age          bmi     children       charges\n",
       "count  1338.000000  1338.000000  1338.000000   1338.000000\n",
       "mean     39.207025    30.663397     1.094918  13270.422265\n",
       "std      14.049960     6.098187     1.205493  12110.011237\n",
       "min      18.000000    15.960000     0.000000   1121.873900\n",
       "25%      27.000000    26.296250     0.000000   4740.287150\n",
       "50%      39.000000    30.400000     1.000000   9382.033000\n",
       "75%      51.000000    34.693750     2.000000  16639.912515\n",
       "max      64.000000    53.130000     5.000000  63770.428010"
      ]
     },
     "execution_count": 9,
     "metadata": {},
     "output_type": "execute_result"
    }
   ],
   "source": [
    "## Get an approximate average\n",
    "ihcd.describe()"
   ]
  },
  {
   "cell_type": "code",
   "execution_count": 10,
   "id": "187f5ac1",
   "metadata": {},
   "outputs": [
    {
     "data": {
      "text/plain": [
       "12346.937377292308"
      ]
     },
     "execution_count": 10,
     "metadata": {},
     "output_type": "execute_result"
    }
   ],
   "source": [
    "ihcd[ihcd['region'] == 'southwest']['charges'].mean()"
   ]
  },
  {
   "cell_type": "code",
   "execution_count": 11,
   "id": "2c090745",
   "metadata": {},
   "outputs": [
    {
     "data": {
      "text/plain": [
       "12417.57537396923"
      ]
     },
     "execution_count": 11,
     "metadata": {},
     "output_type": "execute_result"
    }
   ],
   "source": [
    "ihcd[ihcd['region'] == 'northwest']['charges'].mean()"
   ]
  },
  {
   "cell_type": "code",
   "execution_count": 12,
   "id": "12acd7fa",
   "metadata": {},
   "outputs": [
    {
     "data": {
      "text/plain": [
       "14735.411437609888"
      ]
     },
     "execution_count": 12,
     "metadata": {},
     "output_type": "execute_result"
    }
   ],
   "source": [
    "ihcd[ihcd['region'] == 'southeast']['charges'].mean()"
   ]
  },
  {
   "cell_type": "code",
   "execution_count": 13,
   "id": "26fcbff6",
   "metadata": {},
   "outputs": [
    {
     "data": {
      "text/plain": [
       "13406.384516385804"
      ]
     },
     "execution_count": 13,
     "metadata": {},
     "output_type": "execute_result"
    }
   ],
   "source": [
    "ihcd[ihcd['region'] == 'northeast']['charges'].mean()"
   ]
  },
  {
   "cell_type": "code",
   "execution_count": 14,
   "id": "b88f5216",
   "metadata": {},
   "outputs": [
    {
     "data": {
      "text/plain": [
       "32269.06349362069"
      ]
     },
     "execution_count": 14,
     "metadata": {},
     "output_type": "execute_result"
    }
   ],
   "source": [
    "ihcd[(ihcd['region'] == 'southwest') & (ihcd['smoker']=='yes')]['charges'].mean()\n"
   ]
  },
  {
   "cell_type": "code",
   "execution_count": 15,
   "id": "d46a33f3",
   "metadata": {},
   "outputs": [
    {
     "data": {
      "text/plain": [
       "8019.28451307116"
      ]
     },
     "execution_count": 15,
     "metadata": {},
     "output_type": "execute_result"
    }
   ],
   "source": [
    "ihcd[(ihcd['region'] == 'southwest') & (ihcd['smoker']=='no')]['charges'].mean()\n"
   ]
  },
  {
   "cell_type": "code",
   "execution_count": 16,
   "id": "e9b44350",
   "metadata": {},
   "outputs": [
    {
     "data": {
      "text/plain": [
       "23154.002"
      ]
     },
     "execution_count": 16,
     "metadata": {},
     "output_type": "execute_result"
    }
   ],
   "source": [
    "ihcd[(ihcd['region'] == 'southwest') & (ihcd['smoker']=='yes')&(ihcd['children']>2)]['charges'].mean()\n",
    "\n"
   ]
  },
  {
   "cell_type": "markdown",
   "id": "0294e706",
   "metadata": {},
   "source": [
    "# Prepare the data"
   ]
  },
  {
   "cell_type": "code",
   "execution_count": null,
   "id": "e0cdab68",
   "metadata": {},
   "outputs": [],
   "source": []
  }
 ],
 "metadata": {
  "kernelspec": {
   "display_name": "Python 3 (ipykernel)",
   "language": "python",
   "name": "python3"
  },
  "language_info": {
   "codemirror_mode": {
    "name": "ipython",
    "version": 3
   },
   "file_extension": ".py",
   "mimetype": "text/x-python",
   "name": "python",
   "nbconvert_exporter": "python",
   "pygments_lexer": "ipython3",
   "version": "3.9.12"
  }
 },
 "nbformat": 4,
 "nbformat_minor": 5
}
